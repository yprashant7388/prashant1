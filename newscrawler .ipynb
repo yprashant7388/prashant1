{
 "cells": [
  {
   "cell_type": "code",
   "execution_count": 2,
   "metadata": {},
   "outputs": [
    {
     "name": "stdout",
     "output_type": "stream",
     "text": [
      "Requirement already satisfied: NewsApi-python in c:\\programdata\\anaconda3\\lib\\site-packages (0.2.6)\n",
      "Requirement already satisfied: requests<3.0.0 in c:\\programdata\\anaconda3\\lib\\site-packages (from NewsApi-python) (2.24.0)\n",
      "Requirement already satisfied: urllib3!=1.25.0,!=1.25.1,<1.26,>=1.21.1 in c:\\programdata\\anaconda3\\lib\\site-packages (from requests<3.0.0->NewsApi-python) (1.25.9)\n",
      "Requirement already satisfied: chardet<4,>=3.0.2 in c:\\programdata\\anaconda3\\lib\\site-packages (from requests<3.0.0->NewsApi-python) (3.0.4)\n",
      "Requirement already satisfied: idna<3,>=2.5 in c:\\programdata\\anaconda3\\lib\\site-packages (from requests<3.0.0->NewsApi-python) (2.10)\n",
      "Requirement already satisfied: certifi>=2017.4.17 in c:\\programdata\\anaconda3\\lib\\site-packages (from requests<3.0.0->NewsApi-python) (2020.6.20)\n",
      "Note: you may need to restart the kernel to use updated packages.\n"
     ]
    }
   ],
   "source": [
    "pip install NewsApi-python"
   ]
  },
  {
   "cell_type": "code",
   "execution_count": 3,
   "metadata": {},
   "outputs": [],
   "source": [
    "#importing libraries\n",
    "\n",
    "from ipywidgets import widgets\n",
    "from ipywidgets import *\n",
    "from traitlets import *\n",
    "from IPython.display import display, Markdown\n",
    "\n",
    "#converting unicode to string\n",
    "import unicodedata\n",
    "\n",
    "#NewsApiClient to find URLs of news\n",
    "from newsapi import NewsApiClient\n",
    "\n",
    "# Requests is used to get a html markup from a URL\n",
    "import requests\n",
    "\n",
    "# Beautiful Soup for crawling and capturing text\n",
    "from bs4 import BeautifulSoup"
   ]
  },
  {
   "cell_type": "code",
   "execution_count": 4,
   "metadata": {},
   "outputs": [],
   "source": [
    "newsapi = NewsApiClient(api_key='b765643b269142e2869ebbfc7ac4b168')\n",
    "\n",
    "all_articles = newsapi.get_everything(q = 'Modi',\n",
    "                                      language='en',\n",
    "                                      sources='CNN',\n",
    "                                      sort_by = 'relevancy',\n",
    "                                      page_size = 10)\n",
    "#display(all_articles)"
   ]
  },
  {
   "cell_type": "code",
   "execution_count": 5,
   "metadata": {},
   "outputs": [
    {
     "data": {
      "text/plain": [
       "[b'https://www.cnn.com/2021/02/19/opinions/us-paris-agreement-climate-change-sharma/index.html',\n",
       " b'https://www.cnn.com/2021/02/28/asia/indian-diaspora-farmer-protests-intl-hnk/index.html',\n",
       " b'https://www.cnn.com/2021/03/09/asia/first-ever-quad-leaders-summit-intl-hnk/index.html',\n",
       " b'https://www.cnn.com/2021/03/08/tech/india-internet-homegrown-apps/index.html',\n",
       " b'https://www.cnn.com/2021/03/06/opinions/india-farmer-protests-mandeep-rai-dhillon/index.html',\n",
       " b'https://www.cnn.com/2021/02/10/us/five-things-february-10-trnd/index.html']"
      ]
     },
     "metadata": {},
     "output_type": "display_data"
    }
   ],
   "source": [
    "list_url = []\n",
    "for item in all_articles['articles']:\n",
    "    list_url.append(unicodedata.normalize('NFKD', item['url']).encode('ascii','ignore'))\n",
    "display(list_url)"
   ]
  },
  {
   "cell_type": "code",
   "execution_count": 6,
   "metadata": {},
   "outputs": [],
   "source": [
    "article_content = []\n",
    "for i in list_url:\n",
    "    page = requests.get(i)\n",
    "    soup = BeautifulSoup(page.content, 'html.parser')\n",
    "    content = soup.find_all(['p'])\n",
    "    for line in content:\n",
    "        line_string = unicodedata.normalize('NFKD', line.get_text()).encode('ascii','ignore')\n",
    "        if (len(line_string)>20):\n",
    "            article_content.append(line_string)\n",
    "    article_content.append(',')"
   ]
  },
  {
   "cell_type": "code",
   "execution_count": 7,
   "metadata": {},
   "outputs": [
    {
     "data": {
      "text/markdown": [
       "# Article 1"
      ],
      "text/plain": [
       "<IPython.core.display.Markdown object>"
      ]
     },
     "metadata": {},
     "output_type": "display_data"
    },
    {
     "data": {
      "text/plain": [
       "b'Opinion by Alok Sharma'"
      ]
     },
     "metadata": {},
     "output_type": "display_data"
    },
    {
     "data": {
      "text/plain": [
       "b'Updated 1301 GMT (2101 HKT) February 19, 2021 '"
      ]
     },
     "metadata": {},
     "output_type": "display_data"
    },
    {
     "data": {
      "text/plain": [
       "b'Alok Sharma is the President of COP26, the 26th United Nations Climate Change Conference, to be held in Glasgow, Scotland, from November 1 to November 12. He previously served as Secretary of State for Business, Energy and Industrial Strategy in the United Kingdom. The opinions expressed in this commentary are his own. View more opinion on CNN.'"
      ]
     },
     "metadata": {},
     "output_type": "display_data"
    },
    {
     "data": {
      "text/plain": [
       "b' (CNN)America, welcome back to the frontline of the global fight against climate change. On Friday, President Joe Biden delivered on a key climate campaign pledge by re-joining the Paris Agreement -- the international climate accord agreed in 2015 by world nations to tackle global warming.'"
      ]
     },
     "metadata": {},
     "output_type": "display_data"
    },
    {
     "data": {
      "text/plain": [
       "b\"Sign up for CNN Opinion's new newsletter.\""
      ]
     },
     "metadata": {},
     "output_type": "display_data"
    },
    {
     "data": {
      "text/plain": [
       "b'Join us on Twitter and Facebook'"
      ]
     },
     "metadata": {},
     "output_type": "display_data"
    },
    {
     "data": {
      "text/markdown": [
       "# Article 2"
      ],
      "text/plain": [
       "<IPython.core.display.Markdown object>"
      ]
     },
     "metadata": {},
     "output_type": "display_data"
    },
    {
     "data": {
      "text/plain": [
       "b'Updated 0344 GMT (1144 HKT) March 1, 2021 '"
      ]
     },
     "metadata": {},
     "output_type": "display_data"
    },
    {
     "data": {
      "text/plain": [
       "b\" (CNN)When American author Meena Harris tweeted criticism of the Indian state's clampdown on farmers protesting agricultural reforms, nationalist counter-protesters responded by burning her portrait. Hundreds of Indians barraged her with abuse on Twitter, telling her to stay out of their country's affairs.  \""
      ]
     },
     "metadata": {},
     "output_type": "display_data"
    },
    {
     "data": {
      "text/markdown": [
       "# Article 3"
      ],
      "text/plain": [
       "<IPython.core.display.Markdown object>"
      ]
     },
     "metadata": {},
     "output_type": "display_data"
    },
    {
     "data": {
      "text/plain": [
       "b'By Brad Lendon and Selina Wang, CNN'"
      ]
     },
     "metadata": {},
     "output_type": "display_data"
    },
    {
     "data": {
      "text/plain": [
       "b'Updated 0156 GMT (0956 HKT) March 10, 2021 '"
      ]
     },
     "metadata": {},
     "output_type": "display_data"
    },
    {
     "data": {
      "text/plain": [
       "b'Tokyo (CNN)The leaders of the United States, Japan, India and Australia will meet in a virtual summit Friday, the US and Indian governments announced Tuesday.'"
      ]
     },
     "metadata": {},
     "output_type": "display_data"
    },
    {
     "data": {
      "text/plain": [
       "b\"CNN's Junko Ogura and Betsy Klein contributed to this report.\""
      ]
     },
     "metadata": {},
     "output_type": "display_data"
    },
    {
     "data": {
      "text/markdown": [
       "# Article 4"
      ],
      "text/plain": [
       "<IPython.core.display.Markdown object>"
      ]
     },
     "metadata": {},
     "output_type": "display_data"
    },
    {
     "data": {
      "text/plain": [
       "b'By Rishi Iyengar, CNN Business'"
      ]
     },
     "metadata": {},
     "output_type": "display_data"
    },
    {
     "data": {
      "text/plain": [
       "b'Updated 0006 GMT (0806 HKT) March 9, 2021 '"
      ]
     },
     "metadata": {},
     "output_type": "display_data"
    },
    {
     "data": {
      "text/plain": [
       "b' (CNN Business)While Twitter finds itself in a prolonged standoff with the Indian government over the company\\'s refusal to take down certain accounts, a senior executive of a very similar Indian social network says the sudden attention on his app has been \"overwhelming.\"'"
      ]
     },
     "metadata": {},
     "output_type": "display_data"
    },
    {
     "data": {
      "text/markdown": [
       "# Article 5"
      ],
      "text/plain": [
       "<IPython.core.display.Markdown object>"
      ]
     },
     "metadata": {},
     "output_type": "display_data"
    },
    {
     "data": {
      "text/plain": [
       "b'Opinion by Mandeep Rai Dhillon'"
      ]
     },
     "metadata": {},
     "output_type": "display_data"
    },
    {
     "data": {
      "text/plain": [
       "b'Updated 1643 GMT (0043 HKT) March 6, 2021 '"
      ]
     },
     "metadata": {},
     "output_type": "display_data"
    },
    {
     "data": {
      "text/plain": [
       "b'Mandeep Rai Dhillon is the author of \"The Values Compass: What 101 Countries Teach Us About Purpose, Life and Leadership.\" The opinions expressed in this commentary are those of the author. View more opinion at CNN.'"
      ]
     },
     "metadata": {},
     "output_type": "display_data"
    },
    {
     "data": {
      "text/plain": [
       "b' (CNN)We are now well into the ninth straight month of strikes and protests by the farmers of India. My family are farmers, and have been for many generations, and my mother called me in distress last summer about the agricultural bills that were being passed in India. '"
      ]
     },
     "metadata": {},
     "output_type": "display_data"
    },
    {
     "data": {
      "text/markdown": [
       "# Article 6"
      ],
      "text/plain": [
       "<IPython.core.display.Markdown object>"
      ]
     },
     "metadata": {},
     "output_type": "display_data"
    },
    {
     "data": {
      "text/plain": [
       "b'By AJ Willingham, CNN'"
      ]
     },
     "metadata": {},
     "output_type": "display_data"
    },
    {
     "data": {
      "text/plain": [
       "b'Updated 1118 GMT (1918 HKT) February 10, 2021 '"
      ]
     },
     "metadata": {},
     "output_type": "display_data"
    },
    {
     "data": {
      "text/plain": [
       "b\"If your day doesn't start until you're up to speed on the latest headlines, then let us introduce you to your new favorite morning fix. Sign up here for the '5 Things' newsletter.\""
      ]
     },
     "metadata": {},
     "output_type": "display_data"
    },
    {
     "data": {
      "text/plain": [
       "b\" (CNN)There's hardly any flu this year, and experts point to coronavirus restrictions as a reason. But, they warn, flu season isn't over. \""
      ]
     },
     "metadata": {},
     "output_type": "display_data"
    },
    {
     "data": {
      "text/markdown": [
       "# Article 7"
      ],
      "text/plain": [
       "<IPython.core.display.Markdown object>"
      ]
     },
     "metadata": {},
     "output_type": "display_data"
    }
   ],
   "source": [
    "counter = 1\n",
    "display(Markdown(\"# Article \" + str(counter)))\n",
    "for line in article_content:\n",
    "    if(line == ','):\n",
    "        counter = counter + 1\n",
    "        if (not(counter<=10)):\n",
    "            break;\n",
    "        display(Markdown(\"# Article \" + str(counter)))\n",
    "        continue\n",
    "    display(line)"
   ]
  },
  {
   "cell_type": "code",
   "execution_count": 8,
   "metadata": {},
   "outputs": [],
   "source": [
    "import csv\n",
    "with open('article1.csv', 'a') as csvfile:\n",
    "    spamwriter = csv.writer(csvfile, delimiter=' ',\n",
    "                              quotechar='|', quoting=csv.QUOTE_MINIMAL)\n",
    "    spamwriter.writerow('crawler_article')\n",
    "    spamwriter.writerow(article_content[:25])"
   ]
  },
  {
   "cell_type": "code",
   "execution_count": null,
   "metadata": {},
   "outputs": [],
   "source": []
  }
 ],
 "metadata": {
  "kernelspec": {
   "display_name": "Python 3",
   "language": "python",
   "name": "python3"
  },
  "language_info": {
   "codemirror_mode": {
    "name": "ipython",
    "version": 3
   },
   "file_extension": ".py",
   "mimetype": "text/x-python",
   "name": "python",
   "nbconvert_exporter": "python",
   "pygments_lexer": "ipython3",
   "version": "3.8.3"
  }
 },
 "nbformat": 4,
 "nbformat_minor": 4
}
